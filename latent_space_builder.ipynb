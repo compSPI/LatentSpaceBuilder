{
 "cells": [
  {
   "cell_type": "markdown",
   "metadata": {},
   "source": [
    "# Latent Space Builder\n",
    "\n",
    "\n",
    "This notebook provides a tutorial for using the Latent Space Builder. The Latent Space Builder builds the latent space for an image dataset using various latent methods (Principal Component Analysis, Diffusion Map, etc.).\n",
    "\n",
    "## Import dependencies\n",
    "\n",
    "We first import the Latent Space Builder."
   ]
  },
  {
   "cell_type": "code",
   "execution_count": 1,
   "metadata": {},
   "outputs": [],
   "source": [
    "import latent_space_builder"
   ]
  },
  {
   "cell_type": "markdown",
   "metadata": {},
   "source": [
    "## Get the data\n",
    "\n",
    "We then define a path to our dataset to be used as input for each latent space method. We also define the number of dimensions for the latent space."
   ]
  },
  {
   "cell_type": "code",
   "execution_count": 2,
   "metadata": {},
   "outputs": [],
   "source": [
    "# path to the diffraction images\n",
    "dataset_file = '../data/cspi_synthetic_dataset_diffraction_patterns_1024x1040.hdf5'\n",
    "\n",
    "# type of images\n",
    "image_type = 'diffraction_patterns'\n",
    "\n",
    "# type of targets\n",
    "target_type = 'orientations'\n",
    "\n",
    "# dimension of the latent space\n",
    "latent_dim = 2"
   ]
  },
  {
   "cell_type": "markdown",
   "metadata": {},
   "source": [
    "## Build the latent spaces\n",
    "\n",
    "### Principal Component Analysis\n",
    "\n",
    "We build the latent space using PCA."
   ]
  },
  {
   "cell_type": "code",
   "execution_count": 3,
   "metadata": {},
   "outputs": [
    {
     "name": "stdout",
     "output_type": "stream",
     "text": [
      "<KeysViewHDF5 ['diffraction_patterns', 'diffusion_map', 'orientations', 'principal_component_analysis']>\n"
     ]
    }
   ],
   "source": [
    "# latent method\n",
    "latent_method = 'principal_component_analysis'\n",
    "\n",
    "# build the latent space using PCA\n",
    "latent_space_builder.build_latent_space(dataset_file, image_type, target_type, latent_method, latent_dim)"
   ]
  },
  {
   "cell_type": "markdown",
   "metadata": {},
   "source": [
    "### Diffusion map\n",
    "\n",
    "We build the latent space using DM."
   ]
  },
  {
   "cell_type": "code",
   "execution_count": 4,
   "metadata": {},
   "outputs": [
    {
     "name": "stdout",
     "output_type": "stream",
     "text": [
      "<KeysViewHDF5 ['diffraction_patterns', 'diffusion_map', 'orientations', 'principal_component_analysis']>\n"
     ]
    }
   ],
   "source": [
    "# latent method\n",
    "latent_method = 'diffusion_map'\n",
    "\n",
    "# build the latent space using DM\n",
    "latent_space_builder.build_latent_space(dataset_file, image_type, target_type, latent_method, latent_dim)"
   ]
  }
 ],
 "metadata": {
  "kernelspec": {
   "display_name": "Python (compSPI)",
   "language": "python",
   "name": "compspi"
  },
  "language_info": {
   "codemirror_mode": {
    "name": "ipython",
    "version": 3
   },
   "file_extension": ".py",
   "mimetype": "text/x-python",
   "name": "python",
   "nbconvert_exporter": "python",
   "pygments_lexer": "ipython3",
   "version": "3.8.3"
  }
 },
 "nbformat": 4,
 "nbformat_minor": 4
}
