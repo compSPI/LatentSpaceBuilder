{
 "cells": [
  {
   "cell_type": "markdown",
   "metadata": {},
   "source": [
    "# Latent Space Builder\n",
    "\n",
    "\n",
    "This notebook provides a tutorial for using the Latent Space Builder. The Latent Space Builder builds the latent space for an image dataset using various latent methods (Principal Component Analysis, Diffusion Map, etc.).\n",
    "\n",
    "## Import dependencies\n",
    "\n",
    "We first import the Latent Space Builder."
   ]
  },
  {
   "cell_type": "code",
   "execution_count": null,
   "metadata": {},
   "outputs": [],
   "source": [
    "import latent_space_builder"
   ]
  },
  {
   "cell_type": "markdown",
   "metadata": {},
   "source": [
    "We then import additional dependencies."
   ]
  },
  {
   "cell_type": "code",
   "execution_count": null,
   "metadata": {},
   "outputs": [],
   "source": [
    "import matplotlib.pyplot as plt\n",
    "from matplotlib.ticker import MaxNLocator\n",
    "import numpy as np"
   ]
  },
  {
   "cell_type": "markdown",
   "metadata": {},
   "source": [
    "## Get the data\n",
    "\n",
    "We then define a path to our dataset to be used as input for each latent space method. We also define the number of dimensions for the latent space."
   ]
  },
  {
   "cell_type": "code",
   "execution_count": null,
   "metadata": {},
   "outputs": [],
   "source": [
    "# path to the diffraction images\n",
    "dataset_file = \"../{0}/dataset/cspi_synthetic_dataset_diffraction_patterns_{0}_uniform_quat_dataset-size={1}_diffraction-pattern-shape=1024x1040-copy.hdf5\".format(\"3iyf-10K\", 10000)\n",
    "\n",
    "# type of images\n",
    "image_type = \"diffraction_patterns\"\n",
    "\n",
    "# type of targets\n",
    "target_type = \"orientations\"\n",
    "\n",
    "# dimension of the latent space\n",
    "latent_dim = 50\n"
   ]
  },
  {
   "cell_type": "markdown",
   "metadata": {},
   "source": [
    "## Build the latent spaces\n",
    "\n",
    "### Principal Component Analysis\n",
    "\n",
    "We build the latent space using PCA."
   ]
  },
  {
   "cell_type": "code",
   "execution_count": null,
   "metadata": {},
   "outputs": [],
   "source": [
    "# latent method\n",
    "latent_method = \"principal_component_analysis\"\n",
    "\n",
    "# build the latent space using PCA\n",
    "latent_model = latent_space_builder.build_latent_space(dataset_file, image_type, target_type, latent_method, latent_dim, dataset_size=10000, training_set_size=1000, batch_size=1000)\n"
   ]
  },
  {
   "cell_type": "markdown",
   "metadata": {},
   "source": [
    "We plot the cumulative variance captured by PCA."
   ]
  },
  {
   "cell_type": "code",
   "execution_count": null,
   "metadata": {},
   "outputs": [],
   "source": [
    "explained_variance_ratio = latent_model.explained_variance_ratio_\n",
    "explained_variance_ratio_cumulative_sum = np.cumsum(np.round(explained_variance_ratio, decimals=3) * 100)\n",
    "\n",
    "ax = plt.figure().gca()\n",
    "ax.set_ylabel(\"% Variance Explained\")\n",
    "ax.set_xlabel(\"# of Latent Dimensions\")\n",
    "ax.set_title(\"PCA Analysis\")\n",
    "ax.plot(np.arange(1, latent_dim + 1), explained_variance_ratio_cumulative_sum)\n",
    "ax.xaxis.set_major_locator(MaxNLocator(integer=True))\n",
    "plt.show()\n"
   ]
  },
  {
   "cell_type": "markdown",
   "metadata": {},
   "source": [
    "We plot the singular values of PCA."
   ]
  },
  {
   "cell_type": "code",
   "execution_count": null,
   "metadata": {},
   "outputs": [],
   "source": [
    "singular_values_ = latent_model.singular_values_\n",
    "\n",
    "ax = plt.figure().gca()\n",
    "ax.set_xlabel(\"Singular Values\")\n",
    "ax.set_title(\"PCA Analysis\")\n",
    "ax.scatter(np.arange(1, latent_dim + 1), singular_values_)\n",
    "ax.xaxis.set_major_locator(MaxNLocator(integer=True))\n",
    "plt.show()\n"
   ]
  },
  {
   "cell_type": "markdown",
   "metadata": {},
   "source": [
    "### Diffusion map\n",
    "\n",
    "We build the latent space using DM."
   ]
  },
  {
   "cell_type": "code",
   "execution_count": null,
   "metadata": {},
   "outputs": [],
   "source": [
    "# latent method\n",
    "latent_method = \"diffusion_map\"\n",
    "\n",
    "# build the latent space using DM\n",
    "latent_space_builder.build_latent_space(dataset_file, image_type, target_type, latent_method, latent_dim, dataset_size=1000, training_set_size=200, batch_size=200)\n"
   ]
  },
  {
   "cell_type": "markdown",
   "metadata": {},
   "source": [
    "### Incremental Principal Component Analysis\n",
    "\n",
    "We build the latent space using Incremental Principal Component Analysis."
   ]
  },
  {
   "cell_type": "code",
   "execution_count": null,
   "metadata": {},
   "outputs": [],
   "source": [
    "# latent method\n",
    "latent_method = \"incremental_principal_component_analysis\"\n",
    "\n",
    "# build the latent space using Incremental PCA\n",
    "latent_space_builder.build_latent_space(dataset_file, image_type, target_type, latent_method, latent_dim, dataset_size=10000, training_set_size=2000, batch_size=100)\n"
   ]
  },
  {
   "cell_type": "markdown",
   "metadata": {},
   "source": [
    "### Ensemble Principal Component Analysis\n",
    "\n",
    "We build the latent space using an Ensemble of Principal Component Analysis models."
   ]
  },
  {
   "cell_type": "code",
   "execution_count": null,
   "metadata": {},
   "outputs": [],
   "source": [
    "# latent method\n",
    "latent_method = \"ensemble_pca\"\n",
    "\n",
    "# build the latent space using PCA\n",
    "latent_space_builder.build_latent_space(dataset_file, image_type, target_type, latent_method, latent_dim, dataset_size=10000, training_set_size=4000, batch_size=2000, n_shuffles=30)\n"
   ]
  },
  {
   "cell_type": "code",
   "execution_count": null,
   "metadata": {},
   "outputs": [],
   "source": []
  }
 ],
 "metadata": {
  "kernelspec": {
   "display_name": "Python (latent-space-builder)",
   "language": "python",
   "name": "latent-space-builder"
  },
  "language_info": {
   "codemirror_mode": {
    "name": "ipython",
    "version": 3
   },
   "file_extension": ".py",
   "mimetype": "text/x-python",
   "name": "python",
   "nbconvert_exporter": "python",
   "pygments_lexer": "ipython3",
   "version": "3.7.6"
  }
 },
 "nbformat": 4,
 "nbformat_minor": 4
}
