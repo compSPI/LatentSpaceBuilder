{
 "cells": [
  {
   "cell_type": "markdown",
   "metadata": {},
   "source": [
    "# Incremental PCA"
   ]
  },
  {
   "cell_type": "markdown",
   "metadata": {},
   "source": [
    "## Import dependencies for the model"
   ]
  },
  {
   "cell_type": "code",
   "execution_count": null,
   "metadata": {},
   "outputs": [],
   "source": [
    "import pickle\n",
    "\n",
    "import numpy as np\n",
    "np.random.seed(13)\n",
    "\n",
    "from sklearn.decomposition import IncrementalPCA\n",
    "from sklearn.neighbors import KernelDensity\n",
    "\n",
    "from scipy.spatial import distance\n",
    "\n",
    "import matplotlib.pyplot as plt\n",
    "\n",
    "from tqdm import tqdm\n",
    "\n",
    "import h5py as h5\n"
   ]
  },
  {
   "cell_type": "markdown",
   "metadata": {},
   "source": [
    "## Fit the model to the data"
   ]
  },
  {
   "cell_type": "code",
   "execution_count": null,
   "metadata": {},
   "outputs": [],
   "source": [
    "dataset_name = \"3iyf-10K-mixed-hit-99\"\n",
    "downsampled_images_output_subdir = \"downsample-128x128\"\n",
    "\n",
    "dataset_size = 10000\n",
    "batch_size = 5\n",
    "n_latent_dims = 3\n",
    "n_iters_to_measure_convergence = 10\n",
    "\n",
    "h5_file = \"/reg/data/ana03/scratch/deebanr/{}/dataset/{}/cspi_synthetic_dataset_diffraction_patterns_3iyf-10K-mixed-hit_uniform_quat_dataset-size={}_diffraction-pattern-shape=1024x1040.hdf5\".format(dataset_name, downsampled_images_output_subdir, dataset_size)\n",
    "h5_file_handle = h5.File(h5_file, 'r')\n",
    "\n",
    "img_data = h5_file_handle[\"downsampled_diffraction_patterns\"]\n",
    "data_to_project = img_data[:].reshape((dataset_size, -1))\n",
    "\n",
    "incremental_pca = IncrementalPCA(n_components=n_latent_dims)\n",
    "\n",
    "n_batches = dataset_size // batch_size \n",
    "convergence_measures = []\n",
    "\n",
    "for t in tqdm(range(n_batches)):\n",
    "    \n",
    "    data_batch_to_fit = img_data[t * batch_size : (t + 1) * batch_size].reshape((batch_size, -1))\n",
    "    \n",
    "    incremental_pca.partial_fit(data_batch_to_fit)\n",
    "    \n",
    "    if t == 0:\n",
    "        \n",
    "        mean_previous = incremental_pca.mean_\n",
    "        V_previous = incremental_pca.components_\n",
    "        \n",
    "        projected_data_previous = np.dot(data_to_project - mean_previous, V_previous.T)\n",
    "        kernel_density_estimate_previous = KernelDensity(kernel=\"gaussian\", bandwidth=0.2).fit(projected_data_previous)\n",
    "        probability_density_estimate_previous = np.exp(kernel_density_estimate_previous.score_samples(projected_data_previous))\n",
    "    \n",
    "    elif (t + 1) % n_iters_to_measure_convergence == 0:\n",
    "        \n",
    "        mean_current = incremental_pca.mean_\n",
    "        V_current = incremental_pca.components_\n",
    "        \n",
    "        projected_data_current = np.dot(data_to_project - mean_current, V_current.T)\n",
    "        kernel_density_estimate_current = KernelDensity(kernel=\"gaussian\", bandwidth=0.2).fit(projected_data_current)\n",
    "        probability_density_estimate_current = np.exp(kernel_density_estimate_current.score_samples(projected_data_current))\n",
    "        \n",
    "        convergence_measure = distance.jensenshannon(probability_density_estimate_previous, probability_density_estimate_current)\n",
    "        convergence_measures.append(convergence_measure)\n",
    "        \n",
    "        mean_previous = mean_current\n",
    "        V_previous = V_current\n",
    "        \n",
    "        projected_data_previous = projected_data_current\n",
    "        kernel_density_estimate_previous = kernel_density_estimate_current\n",
    "        probability_density_estimate_previous = probability_density_estimate_current\n",
    "\n",
    "h5_file_handle.close()\n"
   ]
  },
  {
   "cell_type": "markdown",
   "metadata": {},
   "source": [
    "## Plot the convergence for the model"
   ]
  },
  {
   "cell_type": "code",
   "execution_count": null,
   "metadata": {},
   "outputs": [],
   "source": [
    "plt.plot(range(n_iters_to_measure_convergence, n_batches + 1, n_iters_to_measure_convergence), convergence_measures)\n",
    "plt.ylabel(\"Jensen-Shannon Divergence\")\n",
    "plt.xlabel(\"Number of batches processed by Incremental PCA\")\n",
    "plot_title = \"Convergence of Incremental PCA on {}\".format(dataset_name)\n",
    "plt.title(plot_title)\n",
    "plt.savefig(\"incremental-pca-convergence-jensen-shannon-{}-{}-dataset_size={}-batch_size={}-n_iters_to_measure_convergence={}.png\".format(dataset_name, downsampled_images_output_subdir, dataset_size, batch_size, n_iters_to_measure_convergence))\n",
    "plt.show()\n"
   ]
  },
  {
   "cell_type": "markdown",
   "metadata": {},
   "source": [
    "## Save the convergence measures"
   ]
  },
  {
   "cell_type": "code",
   "execution_count": null,
   "metadata": {},
   "outputs": [],
   "source": [
    "convergence_measures_file = \"incremental-pca-convergence-jensen-shannon-{}-{}-dataset_size={}-batch_size={}-n_iters_to_measure_convergence={}.npy\".format(dataset_name, downsampled_images_output_subdir, dataset_size, batch_size, n_iters_to_measure_convergence)\n",
    "np.save(convergence_measures_file, convergence_measures)\n",
    "print(\"Saved convergence measures to: {}\".format(convergence_measures_file))\n"
   ]
  },
  {
   "cell_type": "markdown",
   "metadata": {},
   "source": [
    "## Save the model"
   ]
  },
  {
   "cell_type": "code",
   "execution_count": null,
   "metadata": {},
   "outputs": [],
   "source": [
    "incremental_pca_file = \"incremental-pca-{}-{}-dataset_size={}-batch_size={}.pkl\".format(dataset_name, downsampled_images_output_subdir, dataset_size, batch_size)\n",
    "with open(incremental_pca_file, 'wb') as incremental_pca_file_handle:\n",
    "    pickle.dump(incremental_pca, incremental_pca_file_handle)\n",
    "\n",
    "print(\"Saved Incremental PCA model to: {}\".format(incremental_pca_file))\n"
   ]
  },
  {
   "cell_type": "markdown",
   "metadata": {},
   "source": [
    "## Load the model"
   ]
  },
  {
   "cell_type": "code",
   "execution_count": null,
   "metadata": {},
   "outputs": [],
   "source": [
    "with open(incremental_pca_file, 'rb') as incremental_pca_file_handle:\n",
    "    loaded_incremental_pca = pickle.load(incremental_pca_file_handle)\n",
    "\n",
    "print(\"Loaded Incremental PCA model from: {}\".format(incremental_pca_file))\n",
    "print(\"Principal components:\\n{}\".format(loaded_incremental_pca.components_))\n"
   ]
  },
  {
   "cell_type": "code",
   "execution_count": null,
   "metadata": {},
   "outputs": [],
   "source": []
  }
 ],
 "metadata": {
  "kernelspec": {
   "display_name": "Python 2 ana-current",
   "language": "python",
   "name": "ana-current"
  },
  "language_info": {
   "codemirror_mode": {
    "name": "ipython",
    "version": 2
   },
   "file_extension": ".py",
   "mimetype": "text/x-python",
   "name": "python",
   "nbconvert_exporter": "python",
   "pygments_lexer": "ipython2",
   "version": "2.7.15"
  }
 },
 "nbformat": 4,
 "nbformat_minor": 2
}
