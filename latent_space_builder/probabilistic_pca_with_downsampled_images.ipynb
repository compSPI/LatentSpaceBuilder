{
 "cells": [
  {
   "cell_type": "markdown",
   "metadata": {},
   "source": [
    "# Probabilistic PCA"
   ]
  },
  {
   "cell_type": "markdown",
   "metadata": {},
   "source": [
    "## Import dependencies for the model"
   ]
  },
  {
   "cell_type": "code",
   "execution_count": null,
   "metadata": {},
   "outputs": [],
   "source": [
    "import pickle\n",
    "\n",
    "import numpy as np\n",
    "np.random.seed(13)\n",
    "\n",
    "import scipy.sparse.linalg\n",
    "\n",
    "import matplotlib.pyplot as plt\n",
    "\n",
    "from tqdm import tqdm\n",
    "\n",
    "import h5py as h5\n"
   ]
  },
  {
   "cell_type": "markdown",
   "metadata": {},
   "source": [
    "## Probabilistic PCA Class"
   ]
  },
  {
   "cell_type": "code",
   "execution_count": null,
   "metadata": {},
   "outputs": [],
   "source": [
    "class ProbabilisticPCA(object):\n",
    "    def __init__(self, n_components, n_singular_values_to_approximate_variance):\n",
    "        assert n_components > 0\n",
    "        assert n_singular_values_to_approximate_variance >= n_components\n",
    "        \n",
    "        self.n_components_ = n_components\n",
    "        self.n_singular_values_to_approximate_variance_ = n_singular_values_to_approximate_variance\n",
    "        \n",
    "        self.mean_ = None\n",
    "        self.components_ = None\n",
    "        self.variance_ = None\n",
    "    \n",
    "    # Adapted from: https://github.com/davidstutz/probabilistic-pca\n",
    "    def fit(self, data):\n",
    "        n_samples = data.shape[0]\n",
    "        n_components = self.n_components_\n",
    "        n_singular_values_to_approximate_variance = self.n_singular_values_to_approximate_variance_\n",
    "        \n",
    "        mean = np.mean(data, axis=0)\n",
    "        mean_centered_data = data - mean\n",
    "        \n",
    "        U, s, Vt = scipy.sparse.linalg.svds(mean_centered_data, k=n_components)\n",
    "        \n",
    "        n_singular_values_to_approximate_variance = min(n_singular_values_to_approximate_variance, n_samples)\n",
    "        \n",
    "        _, s_all, _ = scipy.sparse.linalg.svds(mean_centered_data, k=n_singular_values_to_approximate_variance)\n",
    "\n",
    "        e = s ** 2 / (n_samples - 1)\n",
    "        e_all = s_all ** 2 / (n_samples - 1)\n",
    "\n",
    "        var = 1.0 / (n_samples - n_components) * (np.sum(e_all) - np.sum(e))\n",
    "        \n",
    "        L_m = np.diag(e - np.ones((n_components)) * var) ** 0.5\n",
    "        V = Vt.T.dot(L_m)\n",
    "        \n",
    "        self.mean_ = mean\n",
    "        self.components_ = V.T\n",
    "        self.variance_ = np.array([var])\n",
    "        \n",
    "        return self\n",
    "    \n",
    "    # Adapted from: https://github.com/davidstutz/probabilistic-pca\n",
    "    def transform(self, data):\n",
    "        n_components = self.n_components_\n",
    "        mean = self.mean_\n",
    "        V = self.components_\n",
    "        var = self.variance_\n",
    "        \n",
    "        I = np.eye(n_components)\n",
    "        M = V.dot(V.T) + I * var\n",
    "        M_inv = np.linalg.inv(M)\n",
    "\n",
    "        mean_centered_data = data - mean\n",
    "        \n",
    "        projection = np.dot(mean_centered_data, V.T).dot(M_inv.T)\n",
    "\n",
    "        return projection\n"
   ]
  },
  {
   "cell_type": "markdown",
   "metadata": {},
   "source": [
    "## Utility functions"
   ]
  },
  {
   "cell_type": "code",
   "execution_count": null,
   "metadata": {},
   "outputs": [],
   "source": [
    "# https://stackoverflow.com/questions/39382412/crop-center-portion-of-a-numpy-image\n",
    "def crop_center(img, cropx, cropy):\n",
    "    y, x = img.shape\n",
    "    startx = x // 2 - (cropx // 2)\n",
    "    starty = y // 2 - (cropy // 2)    \n",
    "    return img[starty : starty + cropy, startx : startx + cropx]\n",
    "\n",
    "def center_crop_images(img_data, dataset_size, center_crop_target_width, center_crop_target_height, display_progress_bar=False):\n",
    "    img_data_center_cropped = np.zeros((dataset_size, center_crop_target_width, center_crop_target_height))\n",
    "    \n",
    "    if display_progress_bar:\n",
    "        for img_index in tqdm(range(dataset_size)):\n",
    "            img_data_center_cropped[img_index] = crop_center(img_data[img_index], center_crop_target_width, center_crop_target_height)\n",
    "    else:\n",
    "        for img_index in tqdm(range(dataset_size)):\n",
    "            img_data_center_cropped[img_index] = crop_center(img_data[img_index], center_crop_target_width, center_crop_target_height)\n",
    "\n",
    "    return img_data_center_cropped\n",
    "\n",
    "def plot_components_3d(r, xlim=None, ylim=None, figsize=(12, 12), nbins=50):\n",
    "    fig, axes = plt.subplots(3, 3, figsize=figsize)\n",
    "    \n",
    "    for row in range(axes.shape[0]):\n",
    "        for col in range(axes.shape[1]):\n",
    "            ax = axes[row, col]\n",
    "            if row == col:\n",
    "                ax.hist(r[:, row], bins=nbins)\n",
    "                if xlim is not None:\n",
    "                    ax.set_xlim(xlim)\n",
    "            else:\n",
    "                ax.hexbin(r[:, col], r[:, row], mincnt=1)\n",
    "                if xlim is not None:\n",
    "                    ax.set_xlim(xlim)\n",
    "                if ylim is not None:\n",
    "                    ax.set_ylim(ylim)   \n",
    "            \n",
    "            if row == 0:\n",
    "                ax.set_xlabel(\"PC {}\".format(col + 1), fontsize=20)\n",
    "                ax.xaxis.set_label_position('top') \n",
    "            \n",
    "            if col == 0:\n",
    "                ax.set_ylabel(\"PC {}\".format(row + 1), fontsize=20)\n",
    "    \n",
    "    fig.tight_layout()\n",
    "    plt.show()\n"
   ]
  },
  {
   "cell_type": "markdown",
   "metadata": {},
   "source": [
    "## Fit the model to the data"
   ]
  },
  {
   "cell_type": "code",
   "execution_count": null,
   "metadata": {},
   "outputs": [],
   "source": [
    "dataset_name = \"3iyf-10K-mixed-hit-99\"\n",
    "downsampled_images_output_subdir = \"downsample-128x128\"\n",
    "\n",
    "dataset_size = 10000\n",
    "center_crop_target_height = 100\n",
    "center_crop_target_width = 100\n",
    "\n",
    "h5_file = \"/reg/data/ana03/scratch/deebanr/{}/dataset/{}/cspi_synthetic_dataset_diffraction_patterns_3iyf-10K-mixed-hit_uniform_quat_dataset-size={}_diffraction-pattern-shape=1024x1040.hdf5\".format(dataset_name, downsampled_images_output_subdir, dataset_size)\n",
    "# h5_file = \"/reg/data/ana03/scratch/deebanr/{}/dataset/cspi_synthetic_dataset_diffraction_patterns_3iyf-10K-mixed-hit_uniform_quat_dataset-size={}_diffraction-pattern-shape=1024x1040.hdf5\".format(dataset_name, dataset_size)\n",
    "\n",
    "h5_file_handle = h5.File(h5_file, 'r')\n",
    "\n",
    "data_to_fit_and_project = h5_file_handle[\"downsampled_diffraction_patterns\"][:]\n",
    "# data_to_fit_and_project = h5_file_handle[\"diffraction_patterns\"][:]\n",
    "data_to_fit_and_project = data_to_fit_and_project.reshape((dataset_size, -1))\n",
    "\n",
    "print(\"Fitting Probabilistic PCA to vectorized images of shape: {}\".format(data_to_fit_and_project.shape))\n",
    "probabilistic_pca = ProbabilisticPCA(n_components=3, n_singular_values_to_approximate_variance=3)\n",
    "probabilistic_pca.fit(data_to_fit_and_project)\n",
    "\n",
    "h5_file_handle.close()\n"
   ]
  },
  {
   "cell_type": "markdown",
   "metadata": {},
   "source": [
    "## Save the model"
   ]
  },
  {
   "cell_type": "code",
   "execution_count": null,
   "metadata": {},
   "outputs": [],
   "source": [
    "probabilistic_pca_file = \"probabilistic-pca-{}-{}-dataset_size={}.pkl\".format(dataset_name, downsampled_images_output_subdir, dataset_size)\n",
    "with open(probabilistic_pca_file, 'wb') as probabilistic_pca_file_handle:\n",
    "    pickle.dump(probabilistic_pca, probabilistic_pca_file_handle)\n",
    "\n",
    "print(\"Saved Probabilistic PCA model to: {}\".format(probabilistic_pca_file_handle))\n"
   ]
  },
  {
   "cell_type": "markdown",
   "metadata": {},
   "source": [
    "## Load the model"
   ]
  },
  {
   "cell_type": "code",
   "execution_count": null,
   "metadata": {},
   "outputs": [],
   "source": [
    "with open(probabilistic_pca_file, 'rb') as probabilistic_pca_file_handle:\n",
    "    loaded_probabilistic_pca = pickle.load(probabilistic_pca_file_handle)\n",
    "\n",
    "print(\"Loaded Probabilistic PCA model from: {}\".format(probabilistic_pca_file))\n",
    "print(\"Principal components:\\n{}\".format(loaded_probabilistic_pca.components_))\n"
   ]
  },
  {
   "cell_type": "markdown",
   "metadata": {},
   "source": [
    "## Project the data using the model"
   ]
  },
  {
   "cell_type": "code",
   "execution_count": null,
   "metadata": {},
   "outputs": [],
   "source": [
    "latent_projections = probabilistic_pca.transform(data_to_fit_and_project)\n"
   ]
  },
  {
   "cell_type": "markdown",
   "metadata": {},
   "source": [
    "## Plot the projection"
   ]
  },
  {
   "cell_type": "code",
   "execution_count": null,
   "metadata": {},
   "outputs": [],
   "source": [
    "plot_components_3d(latent_projections, figsize=(9, 9), nbins=100)\n"
   ]
  }
 ],
 "metadata": {
  "kernelspec": {
   "display_name": "LCLS-I py2 (deprecated)",
   "language": "python",
   "name": "ana-current"
  },
  "language_info": {
   "codemirror_mode": {
    "name": "ipython",
    "version": 2
   },
   "file_extension": ".py",
   "mimetype": "text/x-python",
   "name": "python",
   "nbconvert_exporter": "python",
   "pygments_lexer": "ipython2",
   "version": "2.7.15"
  }
 },
 "nbformat": 4,
 "nbformat_minor": 2
}
